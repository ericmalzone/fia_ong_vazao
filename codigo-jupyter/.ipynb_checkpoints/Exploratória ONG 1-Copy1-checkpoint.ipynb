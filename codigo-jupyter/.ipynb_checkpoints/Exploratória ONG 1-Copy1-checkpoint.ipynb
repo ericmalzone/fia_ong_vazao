{
 "cells": [
  {
   "cell_type": "code",
   "execution_count": 1,
   "metadata": {},
   "outputs": [
    {
     "ename": "Exception",
     "evalue": "Java gateway process exited before sending its port number",
     "output_type": "error",
     "traceback": [
      "\u001b[1;31m---------------------------------------------------------------------------\u001b[0m",
      "\u001b[1;31mException\u001b[0m                                 Traceback (most recent call last)",
      "\u001b[1;32m<ipython-input-1-f20f28b93779>\u001b[0m in \u001b[0;36m<module>\u001b[1;34m\u001b[0m\n\u001b[0;32m      4\u001b[0m \u001b[1;32mfrom\u001b[0m \u001b[0mpyspark\u001b[0m\u001b[1;33m.\u001b[0m\u001b[0msql\u001b[0m\u001b[1;33m.\u001b[0m\u001b[0mfunctions\u001b[0m \u001b[1;32mimport\u001b[0m \u001b[1;33m*\u001b[0m\u001b[1;33m\u001b[0m\u001b[0m\n\u001b[0;32m      5\u001b[0m \u001b[1;33m\u001b[0m\u001b[0m\n\u001b[1;32m----> 6\u001b[1;33m \u001b[0mspark\u001b[0m \u001b[1;33m=\u001b[0m \u001b[0mSparkSession\u001b[0m\u001b[1;33m.\u001b[0m\u001b[0mbuilder\u001b[0m\u001b[1;33m.\u001b[0m\u001b[0mgetOrCreate\u001b[0m\u001b[1;33m(\u001b[0m\u001b[1;33m)\u001b[0m\u001b[1;33m\u001b[0m\u001b[0m\n\u001b[0m",
      "\u001b[1;32mc:\\users\\home\\appdata\\local\\programs\\python\\python36\\lib\\site-packages\\pyspark\\sql\\session.py\u001b[0m in \u001b[0;36mgetOrCreate\u001b[1;34m(self)\u001b[0m\n\u001b[0;32m    171\u001b[0m                     \u001b[1;32mfor\u001b[0m \u001b[0mkey\u001b[0m\u001b[1;33m,\u001b[0m \u001b[0mvalue\u001b[0m \u001b[1;32min\u001b[0m \u001b[0mself\u001b[0m\u001b[1;33m.\u001b[0m\u001b[0m_options\u001b[0m\u001b[1;33m.\u001b[0m\u001b[0mitems\u001b[0m\u001b[1;33m(\u001b[0m\u001b[1;33m)\u001b[0m\u001b[1;33m:\u001b[0m\u001b[1;33m\u001b[0m\u001b[0m\n\u001b[0;32m    172\u001b[0m                         \u001b[0msparkConf\u001b[0m\u001b[1;33m.\u001b[0m\u001b[0mset\u001b[0m\u001b[1;33m(\u001b[0m\u001b[0mkey\u001b[0m\u001b[1;33m,\u001b[0m \u001b[0mvalue\u001b[0m\u001b[1;33m)\u001b[0m\u001b[1;33m\u001b[0m\u001b[0m\n\u001b[1;32m--> 173\u001b[1;33m                     \u001b[0msc\u001b[0m \u001b[1;33m=\u001b[0m \u001b[0mSparkContext\u001b[0m\u001b[1;33m.\u001b[0m\u001b[0mgetOrCreate\u001b[0m\u001b[1;33m(\u001b[0m\u001b[0msparkConf\u001b[0m\u001b[1;33m)\u001b[0m\u001b[1;33m\u001b[0m\u001b[0m\n\u001b[0m\u001b[0;32m    174\u001b[0m                     \u001b[1;31m# This SparkContext may be an existing one.\u001b[0m\u001b[1;33m\u001b[0m\u001b[1;33m\u001b[0m\u001b[0m\n\u001b[0;32m    175\u001b[0m                     \u001b[1;32mfor\u001b[0m \u001b[0mkey\u001b[0m\u001b[1;33m,\u001b[0m \u001b[0mvalue\u001b[0m \u001b[1;32min\u001b[0m \u001b[0mself\u001b[0m\u001b[1;33m.\u001b[0m\u001b[0m_options\u001b[0m\u001b[1;33m.\u001b[0m\u001b[0mitems\u001b[0m\u001b[1;33m(\u001b[0m\u001b[1;33m)\u001b[0m\u001b[1;33m:\u001b[0m\u001b[1;33m\u001b[0m\u001b[0m\n",
      "\u001b[1;32mc:\\users\\home\\appdata\\local\\programs\\python\\python36\\lib\\site-packages\\pyspark\\context.py\u001b[0m in \u001b[0;36mgetOrCreate\u001b[1;34m(cls, conf)\u001b[0m\n\u001b[0;32m    365\u001b[0m         \u001b[1;32mwith\u001b[0m \u001b[0mSparkContext\u001b[0m\u001b[1;33m.\u001b[0m\u001b[0m_lock\u001b[0m\u001b[1;33m:\u001b[0m\u001b[1;33m\u001b[0m\u001b[0m\n\u001b[0;32m    366\u001b[0m             \u001b[1;32mif\u001b[0m \u001b[0mSparkContext\u001b[0m\u001b[1;33m.\u001b[0m\u001b[0m_active_spark_context\u001b[0m \u001b[1;32mis\u001b[0m \u001b[1;32mNone\u001b[0m\u001b[1;33m:\u001b[0m\u001b[1;33m\u001b[0m\u001b[0m\n\u001b[1;32m--> 367\u001b[1;33m                 \u001b[0mSparkContext\u001b[0m\u001b[1;33m(\u001b[0m\u001b[0mconf\u001b[0m\u001b[1;33m=\u001b[0m\u001b[0mconf\u001b[0m \u001b[1;32mor\u001b[0m \u001b[0mSparkConf\u001b[0m\u001b[1;33m(\u001b[0m\u001b[1;33m)\u001b[0m\u001b[1;33m)\u001b[0m\u001b[1;33m\u001b[0m\u001b[0m\n\u001b[0m\u001b[0;32m    368\u001b[0m             \u001b[1;32mreturn\u001b[0m \u001b[0mSparkContext\u001b[0m\u001b[1;33m.\u001b[0m\u001b[0m_active_spark_context\u001b[0m\u001b[1;33m\u001b[0m\u001b[0m\n\u001b[0;32m    369\u001b[0m \u001b[1;33m\u001b[0m\u001b[0m\n",
      "\u001b[1;32mc:\\users\\home\\appdata\\local\\programs\\python\\python36\\lib\\site-packages\\pyspark\\context.py\u001b[0m in \u001b[0;36m__init__\u001b[1;34m(self, master, appName, sparkHome, pyFiles, environment, batchSize, serializer, conf, gateway, jsc, profiler_cls)\u001b[0m\n\u001b[0;32m    131\u001b[0m                     \" note this option will be removed in Spark 3.0\")\n\u001b[0;32m    132\u001b[0m \u001b[1;33m\u001b[0m\u001b[0m\n\u001b[1;32m--> 133\u001b[1;33m         \u001b[0mSparkContext\u001b[0m\u001b[1;33m.\u001b[0m\u001b[0m_ensure_initialized\u001b[0m\u001b[1;33m(\u001b[0m\u001b[0mself\u001b[0m\u001b[1;33m,\u001b[0m \u001b[0mgateway\u001b[0m\u001b[1;33m=\u001b[0m\u001b[0mgateway\u001b[0m\u001b[1;33m,\u001b[0m \u001b[0mconf\u001b[0m\u001b[1;33m=\u001b[0m\u001b[0mconf\u001b[0m\u001b[1;33m)\u001b[0m\u001b[1;33m\u001b[0m\u001b[0m\n\u001b[0m\u001b[0;32m    134\u001b[0m         \u001b[1;32mtry\u001b[0m\u001b[1;33m:\u001b[0m\u001b[1;33m\u001b[0m\u001b[0m\n\u001b[0;32m    135\u001b[0m             self._do_init(master, appName, sparkHome, pyFiles, environment, batchSize, serializer,\n",
      "\u001b[1;32mc:\\users\\home\\appdata\\local\\programs\\python\\python36\\lib\\site-packages\\pyspark\\context.py\u001b[0m in \u001b[0;36m_ensure_initialized\u001b[1;34m(cls, instance, gateway, conf)\u001b[0m\n\u001b[0;32m    314\u001b[0m         \u001b[1;32mwith\u001b[0m \u001b[0mSparkContext\u001b[0m\u001b[1;33m.\u001b[0m\u001b[0m_lock\u001b[0m\u001b[1;33m:\u001b[0m\u001b[1;33m\u001b[0m\u001b[0m\n\u001b[0;32m    315\u001b[0m             \u001b[1;32mif\u001b[0m \u001b[1;32mnot\u001b[0m \u001b[0mSparkContext\u001b[0m\u001b[1;33m.\u001b[0m\u001b[0m_gateway\u001b[0m\u001b[1;33m:\u001b[0m\u001b[1;33m\u001b[0m\u001b[0m\n\u001b[1;32m--> 316\u001b[1;33m                 \u001b[0mSparkContext\u001b[0m\u001b[1;33m.\u001b[0m\u001b[0m_gateway\u001b[0m \u001b[1;33m=\u001b[0m \u001b[0mgateway\u001b[0m \u001b[1;32mor\u001b[0m \u001b[0mlaunch_gateway\u001b[0m\u001b[1;33m(\u001b[0m\u001b[0mconf\u001b[0m\u001b[1;33m)\u001b[0m\u001b[1;33m\u001b[0m\u001b[0m\n\u001b[0m\u001b[0;32m    317\u001b[0m                 \u001b[0mSparkContext\u001b[0m\u001b[1;33m.\u001b[0m\u001b[0m_jvm\u001b[0m \u001b[1;33m=\u001b[0m \u001b[0mSparkContext\u001b[0m\u001b[1;33m.\u001b[0m\u001b[0m_gateway\u001b[0m\u001b[1;33m.\u001b[0m\u001b[0mjvm\u001b[0m\u001b[1;33m\u001b[0m\u001b[0m\n\u001b[0;32m    318\u001b[0m \u001b[1;33m\u001b[0m\u001b[0m\n",
      "\u001b[1;32mc:\\users\\home\\appdata\\local\\programs\\python\\python36\\lib\\site-packages\\pyspark\\java_gateway.py\u001b[0m in \u001b[0;36mlaunch_gateway\u001b[1;34m(conf)\u001b[0m\n\u001b[0;32m     44\u001b[0m     \u001b[1;33m:\u001b[0m\u001b[1;32mreturn\u001b[0m\u001b[1;33m:\u001b[0m \u001b[0ma\u001b[0m \u001b[0mJVM\u001b[0m \u001b[0mgateway\u001b[0m\u001b[1;33m\u001b[0m\u001b[0m\n\u001b[0;32m     45\u001b[0m     \"\"\"\n\u001b[1;32m---> 46\u001b[1;33m     \u001b[1;32mreturn\u001b[0m \u001b[0m_launch_gateway\u001b[0m\u001b[1;33m(\u001b[0m\u001b[0mconf\u001b[0m\u001b[1;33m)\u001b[0m\u001b[1;33m\u001b[0m\u001b[0m\n\u001b[0m\u001b[0;32m     47\u001b[0m \u001b[1;33m\u001b[0m\u001b[0m\n\u001b[0;32m     48\u001b[0m \u001b[1;33m\u001b[0m\u001b[0m\n",
      "\u001b[1;32mc:\\users\\home\\appdata\\local\\programs\\python\\python36\\lib\\site-packages\\pyspark\\java_gateway.py\u001b[0m in \u001b[0;36m_launch_gateway\u001b[1;34m(conf, insecure)\u001b[0m\n\u001b[0;32m    106\u001b[0m \u001b[1;33m\u001b[0m\u001b[0m\n\u001b[0;32m    107\u001b[0m             \u001b[1;32mif\u001b[0m \u001b[1;32mnot\u001b[0m \u001b[0mos\u001b[0m\u001b[1;33m.\u001b[0m\u001b[0mpath\u001b[0m\u001b[1;33m.\u001b[0m\u001b[0misfile\u001b[0m\u001b[1;33m(\u001b[0m\u001b[0mconn_info_file\u001b[0m\u001b[1;33m)\u001b[0m\u001b[1;33m:\u001b[0m\u001b[1;33m\u001b[0m\u001b[0m\n\u001b[1;32m--> 108\u001b[1;33m                 \u001b[1;32mraise\u001b[0m \u001b[0mException\u001b[0m\u001b[1;33m(\u001b[0m\u001b[1;34m\"Java gateway process exited before sending its port number\"\u001b[0m\u001b[1;33m)\u001b[0m\u001b[1;33m\u001b[0m\u001b[0m\n\u001b[0m\u001b[0;32m    109\u001b[0m \u001b[1;33m\u001b[0m\u001b[0m\n\u001b[0;32m    110\u001b[0m             \u001b[1;32mwith\u001b[0m \u001b[0mopen\u001b[0m\u001b[1;33m(\u001b[0m\u001b[0mconn_info_file\u001b[0m\u001b[1;33m,\u001b[0m \u001b[1;34m\"rb\"\u001b[0m\u001b[1;33m)\u001b[0m \u001b[1;32mas\u001b[0m \u001b[0minfo\u001b[0m\u001b[1;33m:\u001b[0m\u001b[1;33m\u001b[0m\u001b[0m\n",
      "\u001b[1;31mException\u001b[0m: Java gateway process exited before sending its port number"
     ]
    }
   ],
   "source": [
    "import pyspark\n",
    "from pyspark.sql import SparkSession\n",
    "\n",
    "from pyspark.sql.functions import *\n",
    "\n",
    "spark = SparkSession.builder.getOrCreate()"
   ]
  },
  {
   "cell_type": "code",
   "execution_count": 2,
   "metadata": {},
   "outputs": [],
   "source": [
    "import matplotlib.pyplot as plt\n",
    "%matplotlib inline"
   ]
  },
  {
   "cell_type": "code",
   "execution_count": 132,
   "metadata": {},
   "outputs": [],
   "source": [
    "#df = spark.read.format(\"csv\").option(\"header\", \"true\").option(\"delimiter\", \";\").load(\"hdfs://elephant:8020/user/labdata/vazoes.csv\")"
   ]
  },
  {
   "cell_type": "code",
   "execution_count": 69,
   "metadata": {},
   "outputs": [],
   "source": [
    " # local\n",
    "df_chuvas = spark.read.csv(\"chuvas.csv\",header=True, sep=\";\", inferSchema=True)\n",
    " # Cluster \n",
    "#df = spark.read.csv(\"hdfs://elephant:8020/user/labdata/chuvas.csv\",header=True, sep=\";\", inferSchema=True)    "
   ]
  },
  {
   "cell_type": "code",
   "execution_count": 70,
   "metadata": {
    "scrolled": true
   },
   "outputs": [
    {
     "name": "stdout",
     "output_type": "stream",
     "text": [
      "+-------------+-----------------+----------+-----------------+------+-----+---------+--------------+------------+-----------+--------------------+----------+----------------+-------+-------+-------+-------+-------+-------+-------+-------+-------+-------+-------+-------+-------+-------+-------+-------+-------+-------+-------+-------+-------+-------+-------+-------+-------+-------+-------+-------+-------+-------+-------+-------------+-------------+-------------+-------------+-------------+-------------+-------------+-------------+-------------+-------------+-------------+-------------+-------------+-------------+-------------+-------------+-------------+-------------+-------------+-------------+-------------+-------------+-------------+-------------+-------------+-------------+-------------+-------------+-------------+-------------+-------------+\n",
      "|EstacaoCodigo|NivelConsistencia|      Data|TipoMedicaoChuvas|Maxima|Total|DiaMaxima|NumDiasDeChuva|MaximaStatus|TotalStatus|NumDiasDeChuvaStatus|TotalAnual|TotalAnualStatus|Chuva01|Chuva02|Chuva03|Chuva04|Chuva05|Chuva06|Chuva07|Chuva08|Chuva09|Chuva10|Chuva11|Chuva12|Chuva13|Chuva14|Chuva15|Chuva16|Chuva17|Chuva18|Chuva19|Chuva20|Chuva21|Chuva22|Chuva23|Chuva24|Chuva25|Chuva26|Chuva27|Chuva28|Chuva29|Chuva30|Chuva31|Chuva01Status|Chuva02Status|Chuva03Status|Chuva04Status|Chuva05Status|Chuva06Status|Chuva07Status|Chuva08Status|Chuva09Status|Chuva10Status|Chuva11Status|Chuva12Status|Chuva13Status|Chuva14Status|Chuva15Status|Chuva16Status|Chuva17Status|Chuva18Status|Chuva19Status|Chuva20Status|Chuva21Status|Chuva22Status|Chuva23Status|Chuva24Status|Chuva25Status|Chuva26Status|Chuva27Status|Chuva28Status|Chuva29Status|Chuva30Status|Chuva31Status|\n",
      "+-------------+-----------------+----------+-----------------+------+-----+---------+--------------+------------+-----------+--------------------+----------+----------------+-------+-------+-------+-------+-------+-------+-------+-------+-------+-------+-------+-------+-------+-------+-------+-------+-------+-------+-------+-------+-------+-------+-------+-------+-------+-------+-------+-------+-------+-------+-------+-------------+-------------+-------------+-------------+-------------+-------------+-------------+-------------+-------------+-------------+-------------+-------------+-------------+-------------+-------------+-------------+-------------+-------------+-------------+-------------+-------------+-------------+-------------+-------------+-------------+-------------+-------------+-------------+-------------+-------------+-------------+\n",
      "|      2245070|                2|01/01/1941|                1|    52|256,7|        2|             9|           1|          1|                   0|    1418,5|               1|      0|     52|      0|      0|      0|      0|      0|      0|      0|      0|      0|      0|     48|      0|      0|      0|      0|      0|     11|     46|      0|      0|     25|   29,8|     35|      0|    9,8|      0|    0,1|      0|      0|            1|            1|            1|            1|            1|            1|            1|            1|            1|            1|            1|            1|            1|            1|            1|            1|            1|            1|            1|            1|            1|            1|            1|            1|            1|            1|            1|            1|            1|            1|            1|\n",
      "|      2245070|                2|01/02/1941|                1|    18| 90,4|       24|            14|           1|          1|                   0|    1418,5|               1|      0|      0|   11,3|    8,5|      0|    0,2|      0|      0|      0|      0|      0|      0|      0|      0|      0|    0,7|      0|    8,7|      8|    0,1|    3,1|     10|    7,3|     18|    4,2|    4,1|    6,2|      0|   null|   null|   null|            1|            1|            1|            1|            1|            1|            1|            1|            1|            1|            1|            1|            1|            1|            1|            1|            1|            1|            1|            1|            1|            1|            1|            1|            1|            1|            1|            1|            0|            0|            0|\n",
      "|      2245070|                2|01/03/1941|                1|  32,7|  140|       20|            14|           1|          1|                   0|    1418,5|               1|      0|      0|      0|      3|      0|    0,5|      0|      0|      0|      0|      0|      0|   27,6|    9,6|      0|    0,8|      0|    0,2|      0|   32,7|   12,8|   22,4|    1,4|   17,1|    5,4|      0|      0|      0|      0|    6,1|    0,4|            1|            1|            1|            1|            1|            1|            1|            1|            1|            1|            1|            1|            1|            1|            1|            1|            1|            1|            1|            1|            1|            1|            1|            1|            1|            1|            1|            1|            1|            1|            1|\n",
      "+-------------+-----------------+----------+-----------------+------+-----+---------+--------------+------------+-----------+--------------------+----------+----------------+-------+-------+-------+-------+-------+-------+-------+-------+-------+-------+-------+-------+-------+-------+-------+-------+-------+-------+-------+-------+-------+-------+-------+-------+-------+-------+-------+-------+-------+-------+-------+-------------+-------------+-------------+-------------+-------------+-------------+-------------+-------------+-------------+-------------+-------------+-------------+-------------+-------------+-------------+-------------+-------------+-------------+-------------+-------------+-------------+-------------+-------------+-------------+-------------+-------------+-------------+-------------+-------------+-------------+-------------+\n",
      "only showing top 3 rows\n",
      "\n"
     ]
    }
   ],
   "source": [
    "df_chuvas.show(3)"
   ]
  },
  {
   "cell_type": "code",
   "execution_count": 39,
   "metadata": {},
   "outputs": [
    {
     "name": "stdout",
     "output_type": "stream",
     "text": [
      "+-----------------+----------+------+-----+---------+--------------+------------+-----------+--------------------+-----------+----------------+-------+-------------+\n",
      "|NivelConsistencia|      Data|Maxima|Total|DiaMaxima|NumDiasDeChuva|MaximaStatus|TotalStatus|NumDiasDeChuvaStatus| TotalAnual|TotalAnualStatus|Chuva01|Chuva01Status|\n",
      "+-----------------+----------+------+-----+---------+--------------+------------+-----------+--------------------+-----------+----------------+-------+-------------+\n",
      "|                2|01/01/1941|    52|256,7|        2|             9|           1|          1|                   0|     1418,5|               1|      0|            1|\n",
      "|                2|01/02/1941|    18| 90,4|       24|            14|           1|          1|                   0|     1418,5|               1|      0|            1|\n",
      "|                2|01/03/1941|  32,7|  140|       20|            14|           1|          1|                   0|     1418,5|               1|      0|            1|\n",
      "|                2|01/04/1941|  49,6|110,1|       12|             8|           1|          1|                   0|     1418,5|               1|    6,3|            1|\n",
      "|                2|01/05/1941|   6,6| 11,6|       28|             5|           1|          1|                   0|     1418,5|               1|    0,2|            1|\n",
      "|                2|01/06/1941|  24,4| 26,4|       26|             3|           1|          1|                   0|     1418,5|               1|      0|            1|\n",
      "|                2|01/07/1941|  12,4| 20,8|       16|             3|           1|          1|                   0|     1418,5|               1|      0|            1|\n",
      "|                2|01/08/1941|   2,1|  2,8|       17|             3|           1|          1|                   0|     1418,5|               1|      0|            1|\n",
      "|                2|01/09/1941|  34,6|248,7|        6|            19|           1|          1|                   0|     1418,5|               1|    0,3|            1|\n",
      "|                2|01/10/1941|  13,6| 64,5|       17|            10|           1|          1|                   0|     1418,5|               1|   10,6|            1|\n",
      "|                2|01/11/1941|  50,7|207,4|        7|            13|           1|          1|                   0|     1418,5|               1|   27,5|            1|\n",
      "|                2|01/12/1941|  45,3|239,1|        9|            22|           1|          1|                   0|     1418,5|               1|   19,2|            1|\n",
      "|                2|01/01/1942|  48,4|174,6|       17|            15|           1|          1|                   0|1202,900024|               1|    2,1|            1|\n",
      "|                2|01/02/1942|  41,6|230,4|       15|            18|           1|          1|                   0|1202,900024|               1|   20,7|            1|\n",
      "|                2|01/03/1942|  49,8|  224|       10|            19|           1|          1|                   0|1202,900024|               1|     12|            1|\n",
      "|                2|01/04/1942|  13,5| 52,2|       20|            13|           1|          1|                   0|1202,900024|               1|      0|            1|\n",
      "|                2|01/05/1942|   3,5|  7,1|        7|             4|           1|          1|                   0|1202,900024|               1|    0,4|            1|\n",
      "|                2|01/06/1942|  13,5| 21,2|        8|             5|           1|          1|                   0|1202,900024|               1|      0|            1|\n",
      "|                2|01/07/1942|  25,2| 39,6|        4|             5|           1|          1|                   0|1202,900024|               1|      0|            1|\n",
      "|                2|01/08/1942|  10,8| 10,8|        1|             1|           1|          1|                   0|1202,900024|               1|   10,8|            1|\n",
      "+-----------------+----------+------+-----+---------+--------------+------------+-----------+--------------------+-----------+----------------+-------+-------------+\n",
      "only showing top 20 rows\n",
      "\n"
     ]
    }
   ],
   "source": [
    "df.select(col(\"NivelConsistencia\"), col(\"Data\"), col(\"Maxima\"), col(\"Total\"),\n",
    "          col(\"DiaMaxima\"),col(\"NumDiasDeChuva\"),col(\"MaximaStatus\"),col(\"TotalStatus\"),\n",
    "         col(\"NumDiasDeChuvaStatus\"),col(\"TotalAnual\"),col(\"TotalAnualStatus\"),col(\"Chuva01\"),col(\"Chuva01Status\")).show()"
   ]
  },
  {
   "cell_type": "code",
   "execution_count": 154,
   "metadata": {},
   "outputs": [],
   "source": [
    "a = df_chuvas.select(col(\"Chuva01\"),col(\"Chuva02\"),col(\"Chuva03\"),col(\"Chuva04\"),col(\"Chuva05\"),\n",
    "              col(\"Chuva06\"),col(\"Chuva07\"),col(\"Chuva08\"),col(\"Chuva09\"),col(\"Chuva10\"),\n",
    "              col(\"Chuva11\"),col(\"Chuva12\"),col(\"Chuva13\"),col(\"Chuva14\"),col(\"Chuva15\"),\n",
    "              col(\"Chuva16\"),col(\"Chuva17\"),col(\"Chuva18\"),col(\"Chuva19\"),col(\"Chuva20\"),\n",
    "              col(\"Chuva21\"),col(\"Chuva22\"),col(\"Chuva23\"),col(\"Chuva24\"),col(\"Chuva25\"),\n",
    "              col(\"Chuva26\"),col(\"Chuva27\"),col(\"Chuva28\"),col(\"Chuva29\"),col(\"Chuva30\"),col(\"Chuva31\")).toPandas().iloc[6]"
   ]
  },
  {
   "cell_type": "code",
   "execution_count": 155,
   "metadata": {},
   "outputs": [
    {
     "data": {
      "text/plain": [
       "Data       01/07/1941\n",
       "Chuva01             0\n",
       "Chuva02             0\n",
       "Chuva03             0\n",
       "Chuva04             0\n",
       "Chuva05             0\n",
       "Chuva06             0\n",
       "Chuva07             0\n",
       "Chuva08             0\n",
       "Chuva09           8,2\n",
       "Chuva10           0,2\n",
       "Chuva11             0\n",
       "Chuva12             0\n",
       "Chuva13             0\n",
       "Chuva14             0\n",
       "Chuva15             0\n",
       "Chuva16          12,4\n",
       "Chuva17             0\n",
       "Chuva18             0\n",
       "Chuva19             0\n",
       "Chuva20             0\n",
       "Chuva21             0\n",
       "Chuva22             0\n",
       "Chuva23             0\n",
       "Chuva24             0\n",
       "Chuva25             0\n",
       "Chuva26             0\n",
       "Chuva27             0\n",
       "Chuva28             0\n",
       "Chuva29             0\n",
       "Chuva30             0\n",
       "Chuva31             0\n",
       "Name: 6, dtype: object"
      ]
     },
     "execution_count": 155,
     "metadata": {},
     "output_type": "execute_result"
    }
   ],
   "source": [
    "df_chuvas.select(col(\"Data\"),col(\"Chuva01\"),col(\"Chuva02\"),col(\"Chuva03\"),col(\"Chuva04\"),col(\"Chuva05\"),\n",
    "              col(\"Chuva06\"),col(\"Chuva07\"),col(\"Chuva08\"),col(\"Chuva09\"),col(\"Chuva10\"),\n",
    "              col(\"Chuva11\"),col(\"Chuva12\"),col(\"Chuva13\"),col(\"Chuva14\"),col(\"Chuva15\"),\n",
    "              col(\"Chuva16\"),col(\"Chuva17\"),col(\"Chuva18\"),col(\"Chuva19\"),col(\"Chuva20\"),\n",
    "              col(\"Chuva21\"),col(\"Chuva22\"),col(\"Chuva23\"),col(\"Chuva24\"),col(\"Chuva25\"),\n",
    "              col(\"Chuva26\"),col(\"Chuva27\"),col(\"Chuva28\"),col(\"Chuva29\"),col(\"Chuva30\"),col(\"Chuva31\")).toPandas().iloc[6]"
   ]
  },
  {
   "cell_type": "code",
   "execution_count": 156,
   "metadata": {},
   "outputs": [],
   "source": [
    "y_chuva = a.tolist()\n",
    "y_chuva = [ b.replace(\",\",\".\") for b in y_chuva ]\n",
    "y_chuva = [ float(a) for a in y_chuva ]"
   ]
  },
  {
   "cell_type": "code",
   "execution_count": 157,
   "metadata": {},
   "outputs": [],
   "source": [
    "x_chuva = [ x for x in range(1,32) ]"
   ]
  },
  {
   "cell_type": "code",
   "execution_count": 158,
   "metadata": {},
   "outputs": [
    {
     "data": {
      "image/png": "[encoded data removed]",
      "text/plain": [
       "<Figure size 432x288 with 1 Axes>"
      ]
     },
     "metadata": {},
     "output_type": "display_data"
    }
   ],
   "source": [
    "plt.plot(x_chuva,y_chuva)\n",
    "plt.show()"
   ]
  },
  {
   "cell_type": "code",
   "execution_count": 56,
   "metadata": {},
   "outputs": [],
   "source": [
    " # local\n",
    "df_vazoes = spark.read.csv(\"vazoes.csv\",header=True, sep=\";\", inferSchema=True)\n",
    " # Cluster \n",
    "#df = spark.read.csv(\"hdfs://elephant:8020/user/labdata/vazoes.csv\",header=True, sep=\";\", inferSchema=True)  "
   ]
  },
  {
   "cell_type": "code",
   "execution_count": 60,
   "metadata": {},
   "outputs": [
    {
     "name": "stdout",
     "output_type": "stream",
     "text": [
      "+-------------+-----------------+----------+----+-----------+--------------------+------+------+-----+---------+---------+------------+------------+-----------+----------+----------------+-------+-------+-------+-------+-------+-------+-------+-------+-------+-------+-------+-------+-------+-------+-------+-------+-------+-------+-------+-------+-------+-------+-------+-------+-------+-------+-------+-------+-------+-------+-------+-------------+-------------+-------------+-------------+-------------+-------------+-------------+-------------+-------------+-------------+-------------+-------------+-------------+-------------+-------------+-------------+-------------+-------------+-------------+-------------+-------------+-------------+-------------+-------------+-------------+-------------+-------------+-------------+-------------+-------------+-------------+\n",
      "|EstacaoCodigo|NivelConsistencia|      Data|Hora|MediaDiaria|MetodoObtencaoVazoes|Maxima|Minima|Media|DiaMaxima|DiaMinima|MaximaStatus|MinimaStatus|MediaStatus|MediaAnual|MediaAnualStatus|Vazao01|Vazao02|Vazao03|Vazao04|Vazao05|Vazao06|Vazao07|Vazao08|Vazao09|Vazao10|Vazao11|Vazao12|Vazao13|Vazao14|Vazao15|Vazao16|Vazao17|Vazao18|Vazao19|Vazao20|Vazao21|Vazao22|Vazao23|Vazao24|Vazao25|Vazao26|Vazao27|Vazao28|Vazao29|Vazao30|Vazao31|Vazao01Status|Vazao02Status|Vazao03Status|Vazao04Status|Vazao05Status|Vazao06Status|Vazao07Status|Vazao08Status|Vazao09Status|Vazao10Status|Vazao11Status|Vazao12Status|Vazao13Status|Vazao14Status|Vazao15Status|Vazao16Status|Vazao17Status|Vazao18Status|Vazao19Status|Vazao20Status|Vazao21Status|Vazao22Status|Vazao23Status|Vazao24Status|Vazao25Status|Vazao26Status|Vazao27Status|Vazao28Status|Vazao29Status|Vazao30Status|Vazao31Status|\n",
      "+-------------+-----------------+----------+----+-----------+--------------------+------+------+-----+---------+---------+------------+------------+-----------+----------+----------------+-------+-------+-------+-------+-------+-------+-------+-------+-------+-------+-------+-------+-------+-------+-------+-------+-------+-------+-------+-------+-------+-------+-------+-------+-------+-------+-------+-------+-------+-------+-------+-------------+-------------+-------------+-------------+-------------+-------------+-------------+-------------+-------------+-------------+-------------+-------------+-------------+-------------+-------------+-------------+-------------+-------------+-------------+-------------+-------------+-------------+-------------+-------------+-------------+-------------+-------------+-------------+-------------+-------------+-------------+\n",
      "|     61295000|                2|01/04/1937|null|          1|                   1|  null|  null| null|     null|     null|           0|           0|          0|      null|               0|   null|   null|   null|   null|   null|   null|   null|   null|   null|   null|   null|   null|   null|   null|   null|   null|   2,96|  2,416|  2,135|  2,089|  2,089|  2,135|  2,181|  2,321|  2,044|  1,954|  1,909|  1,954|  1,909|  1,865|   null|         null|         null|         null|         null|         null|         null|         null|         null|         null|         null|         null|         null|         null|         null|         null|         null|            1|            1|            1|            1|            1|            1|            1|            1|            1|            1|            1|            1|            1|            1|         null|\n",
      "|     61295000|                2|01/05/1937|null|          1|                   1|10,236| 1,865| 2,85|        2|       13|           1|           1|          1|      null|               0|  2,808| 10,236|  5,654|   2,96|  2,512|  2,368|  2,089|  2,044|  1,999|  1,954|  1,954|  1,954|  1,865|  1,865|  4,094|  6,559|  4,323|  3,011|  2,758|  2,561|  2,321|  2,227|  2,181|  2,135|  2,227|  1,999|  1,999|  1,954|  1,954|  1,909|  1,865|            1|            1|            1|            1|            1|            1|            1|            1|            1|            1|            1|            1|            1|            1|            1|            1|            1|            1|            1|            1|            1|            1|            1|            1|            1|            1|            1|            1|            1|            1|            1|\n",
      "+-------------+-----------------+----------+----+-----------+--------------------+------+------+-----+---------+---------+------------+------------+-----------+----------+----------------+-------+-------+-------+-------+-------+-------+-------+-------+-------+-------+-------+-------+-------+-------+-------+-------+-------+-------+-------+-------+-------+-------+-------+-------+-------+-------+-------+-------+-------+-------+-------+-------------+-------------+-------------+-------------+-------------+-------------+-------------+-------------+-------------+-------------+-------------+-------------+-------------+-------------+-------------+-------------+-------------+-------------+-------------+-------------+-------------+-------------+-------------+-------------+-------------+-------------+-------------+-------------+-------------+-------------+-------------+\n",
      "only showing top 2 rows\n",
      "\n"
     ]
    }
   ],
   "source": [
    "df_vazoes.show(2)"
   ]
  },
  {
   "cell_type": "code",
   "execution_count": 100,
   "metadata": {
    "scrolled": true
   },
   "outputs": [
    {
     "name": "stdout",
     "output_type": "stream",
     "text": [
      "+-----------------+----------+----+-----------+--------------------+------+------+------+---------+---------+------------+------------+-----------+\n",
      "|NivelConsistencia|      Data|Hora|MediaDiaria|MetodoObtencaoVazoes|Maxima|Minima| Media|DiaMaxima|DiaMinima|MaximaStatus|MinimaStatus|MediaStatus|\n",
      "+-----------------+----------+----+-----------+--------------------+------+------+------+---------+---------+------------+------------+-----------+\n",
      "|                2|01/04/1937|null|          1|                   1|  null|  null|  null|     null|     null|           0|           0|          0|\n",
      "|                2|01/05/1937|null|          1|                   1|10,236| 1,865|  2,85|        2|       13|           1|           1|          1|\n",
      "|                2|01/06/1937|null|          1|                   1| 6,427| 1,637| 2,273|        7|       30|           1|           1|          1|\n",
      "|                2|01/07/1937|null|          1|                   1| 1,637| 1,305| 1,457|        1|       29|           1|           1|          1|\n",
      "|                2|01/08/1937|null|          1|                   1| 1,273| 1,036| 1,167|        1|       31|           1|           1|          1|\n",
      "|                2|01/09/1937|null|          1|                   1| 1,065| 0,823| 0,943|       13|       29|           1|           1|          1|\n",
      "|                2|01/10/1937|null|          1|                   1| 3,593| 1,008| 1,872|        7|       19|           1|           1|          1|\n",
      "|                2|01/11/1937|null|          1|                   1| 5,717| 0,981| 1,793|       18|       15|           1|           1|          1|\n",
      "|                2|01/12/1937|null|          1|                   1|23,258| 1,182| 6,852|       18|        1|           1|           1|          1|\n",
      "|                2|01/01/1938|null|          1|                   1|34,151| 3,063|10,189|        6|       31|           1|           1|          1|\n",
      "|                2|01/02/1938|null|          1|                   1|13,565| 2,708| 5,087|       18|        4|           1|           1|          1|\n",
      "|                2|01/03/1938|null|          1|                   1| 5,844| 2,708| 3,668|        3|       31|           1|           1|          1|\n",
      "|                2|01/04/1938|null|          1|                   1| 7,232| 2,181| 2,932|        5|       29|           1|           1|          1|\n",
      "|                2|01/05/1938|null|          1|                   1| 3,703| 1,909| 2,333|       20|       12|           1|           1|          1|\n",
      "|                2|01/06/1938|null|          1|                   1| 1,954| 1,534| 1,679|        1|       29|           1|           1|          1|\n",
      "|                2|01/07/1938|null|          1|                   1| 1,534| 1,273| 1,415|        1|       30|           1|           1|          1|\n",
      "|                2|01/08/1938|null|          1|                   1| 3,378| 1,065|  1,43|        9|       31|           1|           1|          1|\n",
      "|                2|01/09/1938|null|          1|                   1| 3,539| 1,008| 1,303|        9|       22|           1|           1|          1|\n",
      "|                2|01/10/1938|null|          1|                   1|11,463| 1,008| 3,821|       18|        1|           1|           1|          1|\n",
      "|                2|01/11/1938|null|          1|                   1| 5,465| 1,909|  3,13|        1|       21|           1|           1|          1|\n",
      "+-----------------+----------+----+-----------+--------------------+------+------+------+---------+---------+------------+------------+-----------+\n",
      "only showing top 20 rows\n",
      "\n"
     ]
    }
   ],
   "source": [
    "df_vazoes.select(col(\"NivelConsistencia\"),col(\"Data\"),col(\"Hora\"),col(\"MediaDiaria\"),col(\"MetodoObtencaoVazoes\"),\n",
    "          col(\"Maxima\"),col(\"Minima\"),col(\"Media\"),col(\"DiaMaxima\"),col(\"DiaMinima\"),col(\"MaximaStatus\"),col(\"MinimaStatus\"),\n",
    "          col(\"MediaStatus\")).show()"
   ]
  },
  {
   "cell_type": "code",
   "execution_count": 169,
   "metadata": {},
   "outputs": [],
   "source": [
    "a = df_vazoes.select(col(\"Vazao01\"),col(\"Vazao02\"),col(\"Vazao03\"),col(\"Vazao04\"),col(\"Vazao05\"),\n",
    "              col(\"Vazao06\"),col(\"Vazao07\"),col(\"Vazao08\"),col(\"Vazao09\"),col(\"Vazao10\"),\n",
    "              col(\"Vazao11\"),col(\"Vazao12\"),col(\"Vazao13\"),col(\"Vazao14\"),col(\"Vazao15\"),\n",
    "              col(\"Vazao16\"),col(\"Vazao17\"),col(\"Vazao18\"),col(\"Vazao19\"),col(\"Vazao20\"),\n",
    "              col(\"Vazao21\"),col(\"Vazao22\"),col(\"Vazao23\"),col(\"Vazao24\"),col(\"Vazao25\"),\n",
    "              col(\"Vazao26\"),col(\"Vazao27\"),col(\"Vazao28\"),col(\"Vazao29\"),col(\"Vazao30\"),col(\"Vazao31\")).toPandas().iloc[51]"
   ]
  },
  {
   "cell_type": "code",
   "execution_count": 172,
   "metadata": {},
   "outputs": [],
   "source": [
    "y_vazao = a.tolist()\n",
    "y_vazao = [ b.replace(\",\",\".\") for b in y_vazao ]\n",
    "y_vazao = [ float(a) for a in y_vazao ]"
   ]
  },
  {
   "cell_type": "code",
   "execution_count": 173,
   "metadata": {},
   "outputs": [],
   "source": [
    "x_vazao = [ x for x in range(1,32) ]"
   ]
  },
  {
   "cell_type": "code",
   "execution_count": 174,
   "metadata": {},
   "outputs": [
    {
     "data": {
      "image/png": "[encoded data removed]",
      "text/plain": [
       "<Figure size 432x288 with 1 Axes>"
      ]
     },
     "metadata": {},
     "output_type": "display_data"
    }
   ],
   "source": [
    "plt.plot(x_vazao,y_vazao)\n",
    "plt.show()"
   ]
  },
  {
   "cell_type": "markdown",
   "metadata": {},
   "source": [
    "# Grafico de Chuva e Vazao"
   ]
  },
  {
   "cell_type": "code",
   "execution_count": 175,
   "metadata": {},
   "outputs": [],
   "source": [
    "dias = [ x for x in range(1,32) ]"
   ]
  },
  {
   "cell_type": "code",
   "execution_count": 178,
   "metadata": {},
   "outputs": [
    {
     "data": {
      "image/png": "[encoded data removed]",
      "text/plain": [
       "<Figure size 432x288 with 1 Axes>"
      ]
     },
     "metadata": {},
     "output_type": "display_data"
    }
   ],
   "source": [
    "plt.plot(dias,y_chuva,y_vazao)\n",
    "plt.show()"
   ]
  },
  {
   "cell_type": "code",
   "execution_count": null,
   "metadata": {},
   "outputs": [],
   "source": []
  }
 ],
 "metadata": {
  "kernelspec": {
   "display_name": "Python 3",
   "language": "python",
   "name": "python3"
  },
  "language_info": {
   "codemirror_mode": {
    "name": "ipython",
    "version": 3
   },
   "file_extension": ".py",
   "mimetype": "text/x-python",
   "name": "python",
   "nbconvert_exporter": "python",
   "pygments_lexer": "ipython3",
   "version": "3.6.3"
  }
 },
 "nbformat": 4,
 "nbformat_minor": 2
}
