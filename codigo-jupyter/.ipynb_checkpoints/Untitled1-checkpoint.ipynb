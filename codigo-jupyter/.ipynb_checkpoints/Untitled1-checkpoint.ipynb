{
 "cells": [
  {
   "cell_type": "code",
   "execution_count": 2,
   "metadata": {},
   "outputs": [],
   "source": [
    "import pyspark"
   ]
  },
  {
   "cell_type": "code",
   "execution_count": 16,
   "metadata": {},
   "outputs": [],
   "source": [
    "from pyspark.sql import SparkSession"
   ]
  },
  {
   "cell_type": "code",
   "execution_count": 17,
   "metadata": {},
   "outputs": [],
   "source": [
    "from pyspark.sql.functions import *"
   ]
  },
  {
   "cell_type": "code",
   "execution_count": 31,
   "metadata": {},
   "outputs": [
    {
     "name": "stdout",
     "output_type": "stream",
     "text": [
      "Requirement already satisfied: matplotlib in /usr/lib64/python3.6/site-packages\n",
      "Requirement already satisfied: six>=1.10 in /usr/lib/python3.6/site-packages (from matplotlib)\n",
      "Requirement already satisfied: numpy>=1.7.1 in /usr/lib64/python3.6/site-packages (from matplotlib)\n",
      "Requirement already satisfied: kiwisolver>=1.0.1 in /usr/lib64/python3.6/site-packages (from matplotlib)\n",
      "Requirement already satisfied: python-dateutil>=2.1 in /usr/lib/python3.6/site-packages (from matplotlib)\n",
      "Requirement already satisfied: pytz in /usr/lib/python3.6/site-packages (from matplotlib)\n",
      "Requirement already satisfied: cycler>=0.10 in /usr/lib/python3.6/site-packages (from matplotlib)\n",
      "Requirement already satisfied: pyparsing!=2.0.4,!=2.1.2,!=2.1.6,>=2.0.1 in /usr/lib/python3.6/site-packages (from matplotlib)\n",
      "Requirement already satisfied: setuptools in /usr/lib/python3.6/site-packages (from kiwisolver>=1.0.1->matplotlib)\n",
      "\u001b[33mYou are using pip version 9.0.3, however version 19.1 is available.\n",
      "You should consider upgrading via the 'pip install --upgrade pip' command.\u001b[0m\n"
     ]
    }
   ],
   "source": [
    "!pip3.6 install matplotlib"
   ]
  },
  {
   "cell_type": "code",
   "execution_count": 33,
   "metadata": {},
   "outputs": [],
   "source": [
    "import matplotlib.pyplot as plt\n",
    "%matplotlib inline"
   ]
  },
  {
   "cell_type": "code",
   "execution_count": null,
   "metadata": {},
   "outputs": [],
   "source": []
  },
  {
   "cell_type": "code",
   "execution_count": 7,
   "metadata": {},
   "outputs": [],
   "source": [
    "spark = SparkSession.builder.getOrCreate()"
   ]
  },
  {
   "cell_type": "code",
   "execution_count": 132,
   "metadata": {},
   "outputs": [],
   "source": [
    "df = spark.read.format(\"csv\").option(\"header\", \"true\").option(\"delimiter\", \";\").load(\"hdfs://elephant:8020/user/labdata/vazoes.csv\")"
   ]
  },
  {
   "cell_type": "code",
   "execution_count": 133,
   "metadata": {},
   "outputs": [
    {
     "name": "stdout",
     "output_type": "stream",
     "text": [
      "+-----------------+----------+------+-----+---------+--------------+------------+-----------+--------------------+----------------+----------------+-------+-------------+\n",
      "|NivelConsistencia|      Data|Maxima|Total|DiaMaxima|NumDiasDeChuva|MaximaStatus|TotalStatus|NumDiasDeChuvaStatus|      TotalAnual|TotalAnualStatus|Chuva01|Chuva01Status|\n",
      "+-----------------+----------+------+-----+---------+--------------+------------+-----------+--------------------+----------------+----------------+-------+-------------+\n",
      "|                2|01/01/1941|  52,0|256,7|        2|             9|           1|          1|                   0|          1418,5|               1|    0,0|            1|\n",
      "|                2|01/02/1941|  18,0| 90,4|       24|            14|           1|          1|                   0|          1418,5|               1|    0,0|            1|\n",
      "|                2|01/03/1941|  32,7|140,0|       20|            14|           1|          1|                   0|          1418,5|               1|    0,0|            1|\n",
      "|                2|01/04/1941|  49,6|110,1|       12|             8|           1|          1|                   0|          1418,5|               1|    6,3|            1|\n",
      "|                2|01/05/1941|   6,6| 11,6|       28|             5|           1|          1|                   0|          1418,5|               1|    0,2|            1|\n",
      "|                2|01/06/1941|  24,4| 26,4|       26|             3|           1|          1|                   0|          1418,5|               1|    0,0|            1|\n",
      "|                2|01/07/1941|  12,4| 20,8|       16|             3|           1|          1|                   0|          1418,5|               1|    0,0|            1|\n",
      "|                2|01/08/1941|   2,1|  2,8|       17|             3|           1|          1|                   0|          1418,5|               1|    0,0|            1|\n",
      "|                2|01/09/1941|  34,6|248,7|        6|            19|           1|          1|                   0|          1418,5|               1|    0,3|            1|\n",
      "|                2|01/10/1941|  13,6| 64,5|       17|            10|           1|          1|                   0|          1418,5|               1|   10,6|            1|\n",
      "|                2|01/11/1941|  50,7|207,4|        7|            13|           1|          1|                   0|          1418,5|               1|   27,5|            1|\n",
      "|                2|01/12/1941|  45,3|239,1|        9|            22|           1|          1|                   0|          1418,5|               1|   19,2|            1|\n",
      "|                2|01/01/1942|  48,4|174,6|       17|            15|           1|          1|                   0|1202,90002441406|               1|    2,1|            1|\n",
      "|                2|01/02/1942|  41,6|230,4|       15|            18|           1|          1|                   0|1202,90002441406|               1|   20,7|            1|\n",
      "|                2|01/03/1942|  49,8|224,0|       10|            19|           1|          1|                   0|1202,90002441406|               1|   12,0|            1|\n",
      "|                2|01/04/1942|  13,5| 52,2|       20|            13|           1|          1|                   0|1202,90002441406|               1|    0,0|            1|\n",
      "|                2|01/05/1942|   3,5|  7,1|        7|             4|           1|          1|                   0|1202,90002441406|               1|    0,4|            1|\n",
      "|                2|01/06/1942|  13,5| 21,2|        8|             5|           1|          1|                   0|1202,90002441406|               1|    0,0|            1|\n",
      "|                2|01/07/1942|  25,2| 39,6|        4|             5|           1|          1|                   0|1202,90002441406|               1|    0,0|            1|\n",
      "|                2|01/08/1942|  10,8| 10,8|        1|             1|           1|          1|                   0|1202,90002441406|               1|   10,8|            1|\n",
      "+-----------------+----------+------+-----+---------+--------------+------------+-----------+--------------------+----------------+----------------+-------+-------------+\n",
      "only showing top 20 rows\n",
      "\n"
     ]
    }
   ],
   "source": [
    "df.select(col(\"NivelConsistencia\"), col(\"Data\"), col(\"Maxima\"), col(\"Total\"),\n",
    "          col(\"DiaMaxima\"),col(\"NumDiasDeChuva\"),col(\"MaximaStatus\"),col(\"TotalStatus\"),\n",
    "         col(\"NumDiasDeChuvaStatus\"),col(\"TotalAnual\"),col(\"TotalAnualStatus\"),col(\"Chuva01\"),col(\"Chuva01Status\")).show()"
   ]
  },
  {
   "cell_type": "code",
   "execution_count": 144,
   "metadata": {},
   "outputs": [],
   "source": [
    "a = df.select(col(\"Chuva01\"),col(\"Chuva02\"),col(\"Chuva03\"),col(\"Chuva04\"),col(\"Chuva05\"),\n",
    "              col(\"Chuva06\"),col(\"Chuva07\"),col(\"Chuva08\"),col(\"Chuva09\"),col(\"Chuva10\"),\n",
    "              col(\"Chuva11\"),col(\"Chuva12\"),col(\"Chuva13\"),col(\"Chuva14\"),col(\"Chuva15\"),\n",
    "              col(\"Chuva16\"),col(\"Chuva17\"),col(\"Chuva18\"),col(\"Chuva19\"),col(\"Chuva20\"),\n",
    "              col(\"Chuva21\"),col(\"Chuva22\"),col(\"Chuva23\"),col(\"Chuva24\"),col(\"Chuva25\"),\n",
    "              col(\"Chuva26\"),col(\"Chuva27\"),col(\"Chuva28\"),col(\"Chuva29\"),col(\"Chuva30\"),col(\"Chuva31\")).toPandas().iloc[2]"
   ]
  },
  {
   "cell_type": "code",
   "execution_count": 145,
   "metadata": {},
   "outputs": [],
   "source": [
    "y = a.tolist()\n",
    "y = [ b.replace(\",\",\".\") for b in y ]\n",
    "y = [ float(a) for a in y ]"
   ]
  },
  {
   "cell_type": "code",
   "execution_count": 146,
   "metadata": {},
   "outputs": [],
   "source": [
    "x = [ x for x in range(1,32) ]"
   ]
  },
  {
   "cell_type": "code",
   "execution_count": 147,
   "metadata": {},
   "outputs": [
    {
     "data": {
      "image/png": "[encoded data removed]",
      "text/plain": [
       "<Figure size 432x288 with 1 Axes>"
      ]
     },
     "metadata": {
      "needs_background": "light"
     },
     "output_type": "display_data"
    }
   ],
   "source": [
    "plt.plot(x,y)\n",
    "plt.show()"
   ]
  },
  {
   "cell_type": "code",
   "execution_count": 25,
   "metadata": {},
   "outputs": [],
   "source": [
    "df_chuvas = spark.read.format(\"csv\").option(\"header\", \"true\").option(\"delimiter\", \";\").load(\"hdfs://elephant:8020/user/labdata/chuvas.csv\")"
   ]
  },
  {
   "cell_type": "code",
   "execution_count": 28,
   "metadata": {},
   "outputs": [
    {
     "name": "stdout",
     "output_type": "stream",
     "text": [
      "+-----------------+----------+------+-----+---------+--------------+------------+-----------+--------------------+----------------+----------------+-------+-------------+\n",
      "|NivelConsistencia|      Data|Maxima|Total|DiaMaxima|NumDiasDeChuva|MaximaStatus|TotalStatus|NumDiasDeChuvaStatus|      TotalAnual|TotalAnualStatus|Chuva01|Chuva01Status|\n",
      "+-----------------+----------+------+-----+---------+--------------+------------+-----------+--------------------+----------------+----------------+-------+-------------+\n",
      "|                2|01/01/1941|  52,0|256,7|        2|             9|           1|          1|                   0|          1418,5|               1|    0,0|            1|\n",
      "|                2|01/02/1941|  18,0| 90,4|       24|            14|           1|          1|                   0|          1418,5|               1|    0,0|            1|\n",
      "|                2|01/03/1941|  32,7|140,0|       20|            14|           1|          1|                   0|          1418,5|               1|    0,0|            1|\n",
      "|                2|01/04/1941|  49,6|110,1|       12|             8|           1|          1|                   0|          1418,5|               1|    6,3|            1|\n",
      "|                2|01/05/1941|   6,6| 11,6|       28|             5|           1|          1|                   0|          1418,5|               1|    0,2|            1|\n",
      "|                2|01/06/1941|  24,4| 26,4|       26|             3|           1|          1|                   0|          1418,5|               1|    0,0|            1|\n",
      "|                2|01/07/1941|  12,4| 20,8|       16|             3|           1|          1|                   0|          1418,5|               1|    0,0|            1|\n",
      "|                2|01/08/1941|   2,1|  2,8|       17|             3|           1|          1|                   0|          1418,5|               1|    0,0|            1|\n",
      "|                2|01/09/1941|  34,6|248,7|        6|            19|           1|          1|                   0|          1418,5|               1|    0,3|            1|\n",
      "|                2|01/10/1941|  13,6| 64,5|       17|            10|           1|          1|                   0|          1418,5|               1|   10,6|            1|\n",
      "|                2|01/11/1941|  50,7|207,4|        7|            13|           1|          1|                   0|          1418,5|               1|   27,5|            1|\n",
      "|                2|01/12/1941|  45,3|239,1|        9|            22|           1|          1|                   0|          1418,5|               1|   19,2|            1|\n",
      "|                2|01/01/1942|  48,4|174,6|       17|            15|           1|          1|                   0|1202,90002441406|               1|    2,1|            1|\n",
      "|                2|01/02/1942|  41,6|230,4|       15|            18|           1|          1|                   0|1202,90002441406|               1|   20,7|            1|\n",
      "|                2|01/03/1942|  49,8|224,0|       10|            19|           1|          1|                   0|1202,90002441406|               1|   12,0|            1|\n",
      "|                2|01/04/1942|  13,5| 52,2|       20|            13|           1|          1|                   0|1202,90002441406|               1|    0,0|            1|\n",
      "|                2|01/05/1942|   3,5|  7,1|        7|             4|           1|          1|                   0|1202,90002441406|               1|    0,4|            1|\n",
      "|                2|01/06/1942|  13,5| 21,2|        8|             5|           1|          1|                   0|1202,90002441406|               1|    0,0|            1|\n",
      "|                2|01/07/1942|  25,2| 39,6|        4|             5|           1|          1|                   0|1202,90002441406|               1|    0,0|            1|\n",
      "|                2|01/08/1942|  10,8| 10,8|        1|             1|           1|          1|                   0|1202,90002441406|               1|   10,8|            1|\n",
      "+-----------------+----------+------+-----+---------+--------------+------------+-----------+--------------------+----------------+----------------+-------+-------------+\n",
      "only showing top 20 rows\n",
      "\n"
     ]
    }
   ],
   "source": [
    "df_chuvas.select(col(\"NivelConsistencia\"), col(\"Data\"), col(\"Maxima\"), col(\"Total\"),\n",
    "          col(\"DiaMaxima\"),col(\"NumDiasDeChuva\"),col(\"MaximaStatus\"),col(\"TotalStatus\"),\n",
    "         col(\"NumDiasDeChuvaStatus\"),col(\"TotalAnual\"),col(\"TotalAnualStatus\"),col(\"Chuva01\"),col(\"Chuva01Status\")).show()"
   ]
  }
 ],
 "metadata": {
  "kernelspec": {
   "display_name": "Python 3",
   "language": "python",
   "name": "python3"
  },
  "language_info": {
   "codemirror_mode": {
    "name": "ipython",
    "version": 3
   },
   "file_extension": ".py",
   "mimetype": "text/x-python",
   "name": "python",
   "nbconvert_exporter": "python",
   "pygments_lexer": "ipython3",
   "version": "3.6.3"
  }
 },
 "nbformat": 4,
 "nbformat_minor": 2
}
