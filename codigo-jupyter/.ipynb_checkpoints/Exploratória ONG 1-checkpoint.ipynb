{
 "cells": [
  {
   "cell_type": "code",
   "execution_count": 5,
   "metadata": {},
   "outputs": [
    {
     "ename": "Exception",
     "evalue": "Java gateway process exited before sending its port number",
     "output_type": "error",
     "traceback": [
      "\u001b[1;31m---------------------------------------------------------------------------\u001b[0m",
      "\u001b[1;31mException\u001b[0m                                 Traceback (most recent call last)",
      "\u001b[1;32m<ipython-input-5-f20f28b93779>\u001b[0m in \u001b[0;36m<module>\u001b[1;34m\u001b[0m\n\u001b[0;32m      4\u001b[0m \u001b[1;32mfrom\u001b[0m \u001b[0mpyspark\u001b[0m\u001b[1;33m.\u001b[0m\u001b[0msql\u001b[0m\u001b[1;33m.\u001b[0m\u001b[0mfunctions\u001b[0m \u001b[1;32mimport\u001b[0m \u001b[1;33m*\u001b[0m\u001b[1;33m\u001b[0m\u001b[0m\n\u001b[0;32m      5\u001b[0m \u001b[1;33m\u001b[0m\u001b[0m\n\u001b[1;32m----> 6\u001b[1;33m \u001b[0mspark\u001b[0m \u001b[1;33m=\u001b[0m \u001b[0mSparkSession\u001b[0m\u001b[1;33m.\u001b[0m\u001b[0mbuilder\u001b[0m\u001b[1;33m.\u001b[0m\u001b[0mgetOrCreate\u001b[0m\u001b[1;33m(\u001b[0m\u001b[1;33m)\u001b[0m\u001b[1;33m\u001b[0m\u001b[0m\n\u001b[0m",
      "\u001b[1;32mc:\\users\\home\\appdata\\local\\programs\\python\\python36\\lib\\site-packages\\pyspark\\sql\\session.py\u001b[0m in \u001b[0;36mgetOrCreate\u001b[1;34m(self)\u001b[0m\n\u001b[0;32m    171\u001b[0m                     \u001b[1;32mfor\u001b[0m \u001b[0mkey\u001b[0m\u001b[1;33m,\u001b[0m \u001b[0mvalue\u001b[0m \u001b[1;32min\u001b[0m \u001b[0mself\u001b[0m\u001b[1;33m.\u001b[0m\u001b[0m_options\u001b[0m\u001b[1;33m.\u001b[0m\u001b[0mitems\u001b[0m\u001b[1;33m(\u001b[0m\u001b[1;33m)\u001b[0m\u001b[1;33m:\u001b[0m\u001b[1;33m\u001b[0m\u001b[0m\n\u001b[0;32m    172\u001b[0m                         \u001b[0msparkConf\u001b[0m\u001b[1;33m.\u001b[0m\u001b[0mset\u001b[0m\u001b[1;33m(\u001b[0m\u001b[0mkey\u001b[0m\u001b[1;33m,\u001b[0m \u001b[0mvalue\u001b[0m\u001b[1;33m)\u001b[0m\u001b[1;33m\u001b[0m\u001b[0m\n\u001b[1;32m--> 173\u001b[1;33m                     \u001b[0msc\u001b[0m \u001b[1;33m=\u001b[0m \u001b[0mSparkContext\u001b[0m\u001b[1;33m.\u001b[0m\u001b[0mgetOrCreate\u001b[0m\u001b[1;33m(\u001b[0m\u001b[0msparkConf\u001b[0m\u001b[1;33m)\u001b[0m\u001b[1;33m\u001b[0m\u001b[0m\n\u001b[0m\u001b[0;32m    174\u001b[0m                     \u001b[1;31m# This SparkContext may be an existing one.\u001b[0m\u001b[1;33m\u001b[0m\u001b[1;33m\u001b[0m\u001b[0m\n\u001b[0;32m    175\u001b[0m                     \u001b[1;32mfor\u001b[0m \u001b[0mkey\u001b[0m\u001b[1;33m,\u001b[0m \u001b[0mvalue\u001b[0m \u001b[1;32min\u001b[0m \u001b[0mself\u001b[0m\u001b[1;33m.\u001b[0m\u001b[0m_options\u001b[0m\u001b[1;33m.\u001b[0m\u001b[0mitems\u001b[0m\u001b[1;33m(\u001b[0m\u001b[1;33m)\u001b[0m\u001b[1;33m:\u001b[0m\u001b[1;33m\u001b[0m\u001b[0m\n",
      "\u001b[1;32mc:\\users\\home\\appdata\\local\\programs\\python\\python36\\lib\\site-packages\\pyspark\\context.py\u001b[0m in \u001b[0;36mgetOrCreate\u001b[1;34m(cls, conf)\u001b[0m\n\u001b[0;32m    365\u001b[0m         \u001b[1;32mwith\u001b[0m \u001b[0mSparkContext\u001b[0m\u001b[1;33m.\u001b[0m\u001b[0m_lock\u001b[0m\u001b[1;33m:\u001b[0m\u001b[1;33m\u001b[0m\u001b[0m\n\u001b[0;32m    366\u001b[0m             \u001b[1;32mif\u001b[0m \u001b[0mSparkContext\u001b[0m\u001b[1;33m.\u001b[0m\u001b[0m_active_spark_context\u001b[0m \u001b[1;32mis\u001b[0m \u001b[1;32mNone\u001b[0m\u001b[1;33m:\u001b[0m\u001b[1;33m\u001b[0m\u001b[0m\n\u001b[1;32m--> 367\u001b[1;33m                 \u001b[0mSparkContext\u001b[0m\u001b[1;33m(\u001b[0m\u001b[0mconf\u001b[0m\u001b[1;33m=\u001b[0m\u001b[0mconf\u001b[0m \u001b[1;32mor\u001b[0m \u001b[0mSparkConf\u001b[0m\u001b[1;33m(\u001b[0m\u001b[1;33m)\u001b[0m\u001b[1;33m)\u001b[0m\u001b[1;33m\u001b[0m\u001b[0m\n\u001b[0m\u001b[0;32m    368\u001b[0m             \u001b[1;32mreturn\u001b[0m \u001b[0mSparkContext\u001b[0m\u001b[1;33m.\u001b[0m\u001b[0m_active_spark_context\u001b[0m\u001b[1;33m\u001b[0m\u001b[0m\n\u001b[0;32m    369\u001b[0m \u001b[1;33m\u001b[0m\u001b[0m\n",
      "\u001b[1;32mc:\\users\\home\\appdata\\local\\programs\\python\\python36\\lib\\site-packages\\pyspark\\context.py\u001b[0m in \u001b[0;36m__init__\u001b[1;34m(self, master, appName, sparkHome, pyFiles, environment, batchSize, serializer, conf, gateway, jsc, profiler_cls)\u001b[0m\n\u001b[0;32m    131\u001b[0m                     \" note this option will be removed in Spark 3.0\")\n\u001b[0;32m    132\u001b[0m \u001b[1;33m\u001b[0m\u001b[0m\n\u001b[1;32m--> 133\u001b[1;33m         \u001b[0mSparkContext\u001b[0m\u001b[1;33m.\u001b[0m\u001b[0m_ensure_initialized\u001b[0m\u001b[1;33m(\u001b[0m\u001b[0mself\u001b[0m\u001b[1;33m,\u001b[0m \u001b[0mgateway\u001b[0m\u001b[1;33m=\u001b[0m\u001b[0mgateway\u001b[0m\u001b[1;33m,\u001b[0m \u001b[0mconf\u001b[0m\u001b[1;33m=\u001b[0m\u001b[0mconf\u001b[0m\u001b[1;33m)\u001b[0m\u001b[1;33m\u001b[0m\u001b[0m\n\u001b[0m\u001b[0;32m    134\u001b[0m         \u001b[1;32mtry\u001b[0m\u001b[1;33m:\u001b[0m\u001b[1;33m\u001b[0m\u001b[0m\n\u001b[0;32m    135\u001b[0m             self._do_init(master, appName, sparkHome, pyFiles, environment, batchSize, serializer,\n",
      "\u001b[1;32mc:\\users\\home\\appdata\\local\\programs\\python\\python36\\lib\\site-packages\\pyspark\\context.py\u001b[0m in \u001b[0;36m_ensure_initialized\u001b[1;34m(cls, instance, gateway, conf)\u001b[0m\n\u001b[0;32m    314\u001b[0m         \u001b[1;32mwith\u001b[0m \u001b[0mSparkContext\u001b[0m\u001b[1;33m.\u001b[0m\u001b[0m_lock\u001b[0m\u001b[1;33m:\u001b[0m\u001b[1;33m\u001b[0m\u001b[0m\n\u001b[0;32m    315\u001b[0m             \u001b[1;32mif\u001b[0m \u001b[1;32mnot\u001b[0m \u001b[0mSparkContext\u001b[0m\u001b[1;33m.\u001b[0m\u001b[0m_gateway\u001b[0m\u001b[1;33m:\u001b[0m\u001b[1;33m\u001b[0m\u001b[0m\n\u001b[1;32m--> 316\u001b[1;33m                 \u001b[0mSparkContext\u001b[0m\u001b[1;33m.\u001b[0m\u001b[0m_gateway\u001b[0m \u001b[1;33m=\u001b[0m \u001b[0mgateway\u001b[0m \u001b[1;32mor\u001b[0m \u001b[0mlaunch_gateway\u001b[0m\u001b[1;33m(\u001b[0m\u001b[0mconf\u001b[0m\u001b[1;33m)\u001b[0m\u001b[1;33m\u001b[0m\u001b[0m\n\u001b[0m\u001b[0;32m    317\u001b[0m                 \u001b[0mSparkContext\u001b[0m\u001b[1;33m.\u001b[0m\u001b[0m_jvm\u001b[0m \u001b[1;33m=\u001b[0m \u001b[0mSparkContext\u001b[0m\u001b[1;33m.\u001b[0m\u001b[0m_gateway\u001b[0m\u001b[1;33m.\u001b[0m\u001b[0mjvm\u001b[0m\u001b[1;33m\u001b[0m\u001b[0m\n\u001b[0;32m    318\u001b[0m \u001b[1;33m\u001b[0m\u001b[0m\n",
      "\u001b[1;32mc:\\users\\home\\appdata\\local\\programs\\python\\python36\\lib\\site-packages\\pyspark\\java_gateway.py\u001b[0m in \u001b[0;36mlaunch_gateway\u001b[1;34m(conf)\u001b[0m\n\u001b[0;32m     44\u001b[0m     \u001b[1;33m:\u001b[0m\u001b[1;32mreturn\u001b[0m\u001b[1;33m:\u001b[0m \u001b[0ma\u001b[0m \u001b[0mJVM\u001b[0m \u001b[0mgateway\u001b[0m\u001b[1;33m\u001b[0m\u001b[0m\n\u001b[0;32m     45\u001b[0m     \"\"\"\n\u001b[1;32m---> 46\u001b[1;33m     \u001b[1;32mreturn\u001b[0m \u001b[0m_launch_gateway\u001b[0m\u001b[1;33m(\u001b[0m\u001b[0mconf\u001b[0m\u001b[1;33m)\u001b[0m\u001b[1;33m\u001b[0m\u001b[0m\n\u001b[0m\u001b[0;32m     47\u001b[0m \u001b[1;33m\u001b[0m\u001b[0m\n\u001b[0;32m     48\u001b[0m \u001b[1;33m\u001b[0m\u001b[0m\n",
      "\u001b[1;32mc:\\users\\home\\appdata\\local\\programs\\python\\python36\\lib\\site-packages\\pyspark\\java_gateway.py\u001b[0m in \u001b[0;36m_launch_gateway\u001b[1;34m(conf, insecure)\u001b[0m\n\u001b[0;32m    106\u001b[0m \u001b[1;33m\u001b[0m\u001b[0m\n\u001b[0;32m    107\u001b[0m             \u001b[1;32mif\u001b[0m \u001b[1;32mnot\u001b[0m \u001b[0mos\u001b[0m\u001b[1;33m.\u001b[0m\u001b[0mpath\u001b[0m\u001b[1;33m.\u001b[0m\u001b[0misfile\u001b[0m\u001b[1;33m(\u001b[0m\u001b[0mconn_info_file\u001b[0m\u001b[1;33m)\u001b[0m\u001b[1;33m:\u001b[0m\u001b[1;33m\u001b[0m\u001b[0m\n\u001b[1;32m--> 108\u001b[1;33m                 \u001b[1;32mraise\u001b[0m \u001b[0mException\u001b[0m\u001b[1;33m(\u001b[0m\u001b[1;34m\"Java gateway process exited before sending its port number\"\u001b[0m\u001b[1;33m)\u001b[0m\u001b[1;33m\u001b[0m\u001b[0m\n\u001b[0m\u001b[0;32m    109\u001b[0m \u001b[1;33m\u001b[0m\u001b[0m\n\u001b[0;32m    110\u001b[0m             \u001b[1;32mwith\u001b[0m \u001b[0mopen\u001b[0m\u001b[1;33m(\u001b[0m\u001b[0mconn_info_file\u001b[0m\u001b[1;33m,\u001b[0m \u001b[1;34m\"rb\"\u001b[0m\u001b[1;33m)\u001b[0m \u001b[1;32mas\u001b[0m \u001b[0minfo\u001b[0m\u001b[1;33m:\u001b[0m\u001b[1;33m\u001b[0m\u001b[0m\n",
      "\u001b[1;31mException\u001b[0m: Java gateway process exited before sending its port number"
     ]
    }
   ],
   "source": [
    "import pyspark\n",
    "from pyspark.sql import SparkSession\n",
    "\n",
    "from pyspark.sql.functions import *\n",
    "\n",
    "spark = SparkSession.builder.getOrCreate()"
   ]
  },
  {
   "cell_type": "code",
   "execution_count": 4,
   "metadata": {},
   "outputs": [],
   "source": [
    "import matplotlib.pyplot as plt\n",
    "%matplotlib inline"
   ]
  },
  {
   "cell_type": "code",
   "execution_count": 132,
   "metadata": {},
   "outputs": [],
   "source": [
    "#df = spark.read.format(\"csv\").option(\"header\", \"true\").option(\"delimiter\", \";\").load(\"hdfs://elephant:8020/user/labdata/vazoes.csv\")"
   ]
  },
  {
   "cell_type": "code",
   "execution_count": 36,
   "metadata": {},
   "outputs": [],
   "source": [
    " # local\n",
    "#df = spark.read.csv(\"vazoes.csv\",header=True, sep=\";\", inferSchema=True)\n",
    "df = spark.read.csv(\"chuvas.csv\",header=True, sep=\";\", inferSchema=True)\n",
    " # Cluster \n",
    "#df = spark.read.csv(\"hdfs://elephant:8020/user/labdata/vazoes.csv\",header=True, sep=\";\", inferSchema=True)    "
   ]
  },
  {
   "cell_type": "code",
   "execution_count": 37,
   "metadata": {
    "scrolled": true
   },
   "outputs": [
    {
     "name": "stdout",
     "output_type": "stream",
     "text": [
      "+-------------+-----------------+----------+-----------------+------+-----+---------+--------------+------------+-----------+--------------------+----------+----------------+-------+-------+-------+-------+-------+-------+-------+-------+-------+-------+-------+-------+-------+-------+-------+-------+-------+-------+-------+-------+-------+-------+-------+-------+-------+-------+-------+-------+-------+-------+-------+-------------+-------------+-------------+-------------+-------------+-------------+-------------+-------------+-------------+-------------+-------------+-------------+-------------+-------------+-------------+-------------+-------------+-------------+-------------+-------------+-------------+-------------+-------------+-------------+-------------+-------------+-------------+-------------+-------------+-------------+-------------+\n",
      "|EstacaoCodigo|NivelConsistencia|      Data|TipoMedicaoChuvas|Maxima|Total|DiaMaxima|NumDiasDeChuva|MaximaStatus|TotalStatus|NumDiasDeChuvaStatus|TotalAnual|TotalAnualStatus|Chuva01|Chuva02|Chuva03|Chuva04|Chuva05|Chuva06|Chuva07|Chuva08|Chuva09|Chuva10|Chuva11|Chuva12|Chuva13|Chuva14|Chuva15|Chuva16|Chuva17|Chuva18|Chuva19|Chuva20|Chuva21|Chuva22|Chuva23|Chuva24|Chuva25|Chuva26|Chuva27|Chuva28|Chuva29|Chuva30|Chuva31|Chuva01Status|Chuva02Status|Chuva03Status|Chuva04Status|Chuva05Status|Chuva06Status|Chuva07Status|Chuva08Status|Chuva09Status|Chuva10Status|Chuva11Status|Chuva12Status|Chuva13Status|Chuva14Status|Chuva15Status|Chuva16Status|Chuva17Status|Chuva18Status|Chuva19Status|Chuva20Status|Chuva21Status|Chuva22Status|Chuva23Status|Chuva24Status|Chuva25Status|Chuva26Status|Chuva27Status|Chuva28Status|Chuva29Status|Chuva30Status|Chuva31Status|\n",
      "+-------------+-----------------+----------+-----------------+------+-----+---------+--------------+------------+-----------+--------------------+----------+----------------+-------+-------+-------+-------+-------+-------+-------+-------+-------+-------+-------+-------+-------+-------+-------+-------+-------+-------+-------+-------+-------+-------+-------+-------+-------+-------+-------+-------+-------+-------+-------+-------------+-------------+-------------+-------------+-------------+-------------+-------------+-------------+-------------+-------------+-------------+-------------+-------------+-------------+-------------+-------------+-------------+-------------+-------------+-------------+-------------+-------------+-------------+-------------+-------------+-------------+-------------+-------------+-------------+-------------+-------------+\n",
      "|      2245070|                2|01/01/1941|                1|    52|256,7|        2|             9|           1|          1|                   0|    1418,5|               1|      0|     52|      0|      0|      0|      0|      0|      0|      0|      0|      0|      0|     48|      0|      0|      0|      0|      0|     11|     46|      0|      0|     25|   29,8|     35|      0|    9,8|      0|    0,1|      0|      0|            1|            1|            1|            1|            1|            1|            1|            1|            1|            1|            1|            1|            1|            1|            1|            1|            1|            1|            1|            1|            1|            1|            1|            1|            1|            1|            1|            1|            1|            1|            1|\n",
      "|      2245070|                2|01/02/1941|                1|    18| 90,4|       24|            14|           1|          1|                   0|    1418,5|               1|      0|      0|   11,3|    8,5|      0|    0,2|      0|      0|      0|      0|      0|      0|      0|      0|      0|    0,7|      0|    8,7|      8|    0,1|    3,1|     10|    7,3|     18|    4,2|    4,1|    6,2|      0|   null|   null|   null|            1|            1|            1|            1|            1|            1|            1|            1|            1|            1|            1|            1|            1|            1|            1|            1|            1|            1|            1|            1|            1|            1|            1|            1|            1|            1|            1|            1|            0|            0|            0|\n",
      "|      2245070|                2|01/03/1941|                1|  32,7|  140|       20|            14|           1|          1|                   0|    1418,5|               1|      0|      0|      0|      3|      0|    0,5|      0|      0|      0|      0|      0|      0|   27,6|    9,6|      0|    0,8|      0|    0,2|      0|   32,7|   12,8|   22,4|    1,4|   17,1|    5,4|      0|      0|      0|      0|    6,1|    0,4|            1|            1|            1|            1|            1|            1|            1|            1|            1|            1|            1|            1|            1|            1|            1|            1|            1|            1|            1|            1|            1|            1|            1|            1|            1|            1|            1|            1|            1|            1|            1|\n",
      "+-------------+-----------------+----------+-----------------+------+-----+---------+--------------+------------+-----------+--------------------+----------+----------------+-------+-------+-------+-------+-------+-------+-------+-------+-------+-------+-------+-------+-------+-------+-------+-------+-------+-------+-------+-------+-------+-------+-------+-------+-------+-------+-------+-------+-------+-------+-------+-------------+-------------+-------------+-------------+-------------+-------------+-------------+-------------+-------------+-------------+-------------+-------------+-------------+-------------+-------------+-------------+-------------+-------------+-------------+-------------+-------------+-------------+-------------+-------------+-------------+-------------+-------------+-------------+-------------+-------------+-------------+\n",
      "only showing top 3 rows\n",
      "\n"
     ]
    }
   ],
   "source": [
    "df.show(3)"
   ]
  },
  {
   "cell_type": "code",
   "execution_count": 39,
   "metadata": {},
   "outputs": [
    {
     "name": "stdout",
     "output_type": "stream",
     "text": [
      "+-----------------+----------+------+-----+---------+--------------+------------+-----------+--------------------+-----------+----------------+-------+-------------+\n",
      "|NivelConsistencia|      Data|Maxima|Total|DiaMaxima|NumDiasDeChuva|MaximaStatus|TotalStatus|NumDiasDeChuvaStatus| TotalAnual|TotalAnualStatus|Chuva01|Chuva01Status|\n",
      "+-----------------+----------+------+-----+---------+--------------+------------+-----------+--------------------+-----------+----------------+-------+-------------+\n",
      "|                2|01/01/1941|    52|256,7|        2|             9|           1|          1|                   0|     1418,5|               1|      0|            1|\n",
      "|                2|01/02/1941|    18| 90,4|       24|            14|           1|          1|                   0|     1418,5|               1|      0|            1|\n",
      "|                2|01/03/1941|  32,7|  140|       20|            14|           1|          1|                   0|     1418,5|               1|      0|            1|\n",
      "|                2|01/04/1941|  49,6|110,1|       12|             8|           1|          1|                   0|     1418,5|               1|    6,3|            1|\n",
      "|                2|01/05/1941|   6,6| 11,6|       28|             5|           1|          1|                   0|     1418,5|               1|    0,2|            1|\n",
      "|                2|01/06/1941|  24,4| 26,4|       26|             3|           1|          1|                   0|     1418,5|               1|      0|            1|\n",
      "|                2|01/07/1941|  12,4| 20,8|       16|             3|           1|          1|                   0|     1418,5|               1|      0|            1|\n",
      "|                2|01/08/1941|   2,1|  2,8|       17|             3|           1|          1|                   0|     1418,5|               1|      0|            1|\n",
      "|                2|01/09/1941|  34,6|248,7|        6|            19|           1|          1|                   0|     1418,5|               1|    0,3|            1|\n",
      "|                2|01/10/1941|  13,6| 64,5|       17|            10|           1|          1|                   0|     1418,5|               1|   10,6|            1|\n",
      "|                2|01/11/1941|  50,7|207,4|        7|            13|           1|          1|                   0|     1418,5|               1|   27,5|            1|\n",
      "|                2|01/12/1941|  45,3|239,1|        9|            22|           1|          1|                   0|     1418,5|               1|   19,2|            1|\n",
      "|                2|01/01/1942|  48,4|174,6|       17|            15|           1|          1|                   0|1202,900024|               1|    2,1|            1|\n",
      "|                2|01/02/1942|  41,6|230,4|       15|            18|           1|          1|                   0|1202,900024|               1|   20,7|            1|\n",
      "|                2|01/03/1942|  49,8|  224|       10|            19|           1|          1|                   0|1202,900024|               1|     12|            1|\n",
      "|                2|01/04/1942|  13,5| 52,2|       20|            13|           1|          1|                   0|1202,900024|               1|      0|            1|\n",
      "|                2|01/05/1942|   3,5|  7,1|        7|             4|           1|          1|                   0|1202,900024|               1|    0,4|            1|\n",
      "|                2|01/06/1942|  13,5| 21,2|        8|             5|           1|          1|                   0|1202,900024|               1|      0|            1|\n",
      "|                2|01/07/1942|  25,2| 39,6|        4|             5|           1|          1|                   0|1202,900024|               1|      0|            1|\n",
      "|                2|01/08/1942|  10,8| 10,8|        1|             1|           1|          1|                   0|1202,900024|               1|   10,8|            1|\n",
      "+-----------------+----------+------+-----+---------+--------------+------------+-----------+--------------------+-----------+----------------+-------+-------------+\n",
      "only showing top 20 rows\n",
      "\n"
     ]
    }
   ],
   "source": [
    "df.select(col(\"NivelConsistencia\"), col(\"Data\"), col(\"Maxima\"), col(\"Total\"),\n",
    "          col(\"DiaMaxima\"),col(\"NumDiasDeChuva\"),col(\"MaximaStatus\"),col(\"TotalStatus\"),\n",
    "         col(\"NumDiasDeChuvaStatus\"),col(\"TotalAnual\"),col(\"TotalAnualStatus\"),col(\"Chuva01\"),col(\"Chuva01Status\")).show()"
   ]
  },
  {
   "cell_type": "code",
   "execution_count": 40,
   "metadata": {},
   "outputs": [],
   "source": [
    "a = df.select(col(\"Chuva01\"),col(\"Chuva02\"),col(\"Chuva03\"),col(\"Chuva04\"),col(\"Chuva05\"),\n",
    "              col(\"Chuva06\"),col(\"Chuva07\"),col(\"Chuva08\"),col(\"Chuva09\"),col(\"Chuva10\"),\n",
    "              col(\"Chuva11\"),col(\"Chuva12\"),col(\"Chuva13\"),col(\"Chuva14\"),col(\"Chuva15\"),\n",
    "              col(\"Chuva16\"),col(\"Chuva17\"),col(\"Chuva18\"),col(\"Chuva19\"),col(\"Chuva20\"),\n",
    "              col(\"Chuva21\"),col(\"Chuva22\"),col(\"Chuva23\"),col(\"Chuva24\"),col(\"Chuva25\"),\n",
    "              col(\"Chuva26\"),col(\"Chuva27\"),col(\"Chuva28\"),col(\"Chuva29\"),col(\"Chuva30\"),col(\"Chuva31\")).toPandas().iloc[2]"
   ]
  },
  {
   "cell_type": "code",
   "execution_count": 46,
   "metadata": {},
   "outputs": [],
   "source": [
    "y = a.tolist()\n",
    "y = [ b.replace(\",\",\".\") for b in y ]\n",
    "y = [ float(a) for a in y ]"
   ]
  },
  {
   "cell_type": "code",
   "execution_count": 47,
   "metadata": {},
   "outputs": [],
   "source": [
    "x = [ x for x in range(1,32) ]"
   ]
  },
  {
   "cell_type": "code",
   "execution_count": 48,
   "metadata": {},
   "outputs": [
    {
     "data": {
      "image/png": "[encoded data removed]",
      "text/plain": [
       "<Figure size 432x288 with 1 Axes>"
      ]
     },
     "metadata": {},
     "output_type": "display_data"
    }
   ],
   "source": [
    "plt.plot(x,y)\n",
    "plt.show()"
   ]
  },
  {
   "cell_type": "code",
   "execution_count": 25,
   "metadata": {},
   "outputs": [],
   "source": [
    "df_chuvas = spark.read.format(\"csv\").option(\"header\", \"true\").option(\"delimiter\", \";\").load(\"hdfs://elephant:8020/user/labdata/chuvas.csv\")"
   ]
  },
  {
   "cell_type": "code",
   "execution_count": 28,
   "metadata": {},
   "outputs": [
    {
     "name": "stdout",
     "output_type": "stream",
     "text": [
      "+-----------------+----------+------+-----+---------+--------------+------------+-----------+--------------------+----------------+----------------+-------+-------------+\n",
      "|NivelConsistencia|      Data|Maxima|Total|DiaMaxima|NumDiasDeChuva|MaximaStatus|TotalStatus|NumDiasDeChuvaStatus|      TotalAnual|TotalAnualStatus|Chuva01|Chuva01Status|\n",
      "+-----------------+----------+------+-----+---------+--------------+------------+-----------+--------------------+----------------+----------------+-------+-------------+\n",
      "|                2|01/01/1941|  52,0|256,7|        2|             9|           1|          1|                   0|          1418,5|               1|    0,0|            1|\n",
      "|                2|01/02/1941|  18,0| 90,4|       24|            14|           1|          1|                   0|          1418,5|               1|    0,0|            1|\n",
      "|                2|01/03/1941|  32,7|140,0|       20|            14|           1|          1|                   0|          1418,5|               1|    0,0|            1|\n",
      "|                2|01/04/1941|  49,6|110,1|       12|             8|           1|          1|                   0|          1418,5|               1|    6,3|            1|\n",
      "|                2|01/05/1941|   6,6| 11,6|       28|             5|           1|          1|                   0|          1418,5|               1|    0,2|            1|\n",
      "|                2|01/06/1941|  24,4| 26,4|       26|             3|           1|          1|                   0|          1418,5|               1|    0,0|            1|\n",
      "|                2|01/07/1941|  12,4| 20,8|       16|             3|           1|          1|                   0|          1418,5|               1|    0,0|            1|\n",
      "|                2|01/08/1941|   2,1|  2,8|       17|             3|           1|          1|                   0|          1418,5|               1|    0,0|            1|\n",
      "|                2|01/09/1941|  34,6|248,7|        6|            19|           1|          1|                   0|          1418,5|               1|    0,3|            1|\n",
      "|                2|01/10/1941|  13,6| 64,5|       17|            10|           1|          1|                   0|          1418,5|               1|   10,6|            1|\n",
      "|                2|01/11/1941|  50,7|207,4|        7|            13|           1|          1|                   0|          1418,5|               1|   27,5|            1|\n",
      "|                2|01/12/1941|  45,3|239,1|        9|            22|           1|          1|                   0|          1418,5|               1|   19,2|            1|\n",
      "|                2|01/01/1942|  48,4|174,6|       17|            15|           1|          1|                   0|1202,90002441406|               1|    2,1|            1|\n",
      "|                2|01/02/1942|  41,6|230,4|       15|            18|           1|          1|                   0|1202,90002441406|               1|   20,7|            1|\n",
      "|                2|01/03/1942|  49,8|224,0|       10|            19|           1|          1|                   0|1202,90002441406|               1|   12,0|            1|\n",
      "|                2|01/04/1942|  13,5| 52,2|       20|            13|           1|          1|                   0|1202,90002441406|               1|    0,0|            1|\n",
      "|                2|01/05/1942|   3,5|  7,1|        7|             4|           1|          1|                   0|1202,90002441406|               1|    0,4|            1|\n",
      "|                2|01/06/1942|  13,5| 21,2|        8|             5|           1|          1|                   0|1202,90002441406|               1|    0,0|            1|\n",
      "|                2|01/07/1942|  25,2| 39,6|        4|             5|           1|          1|                   0|1202,90002441406|               1|    0,0|            1|\n",
      "|                2|01/08/1942|  10,8| 10,8|        1|             1|           1|          1|                   0|1202,90002441406|               1|   10,8|            1|\n",
      "+-----------------+----------+------+-----+---------+--------------+------------+-----------+--------------------+----------------+----------------+-------+-------------+\n",
      "only showing top 20 rows\n",
      "\n"
     ]
    }
   ],
   "source": [
    "df_chuvas.select(col(\"NivelConsistencia\"), col(\"Data\"), col(\"Maxima\"), col(\"Total\"),\n",
    "          col(\"DiaMaxima\"),col(\"NumDiasDeChuva\"),col(\"MaximaStatus\"),col(\"TotalStatus\"),\n",
    "         col(\"NumDiasDeChuvaStatus\"),col(\"TotalAnual\"),col(\"TotalAnualStatus\"),col(\"Chuva01\"),col(\"Chuva01Status\")).show()"
   ]
  }
 ],
 "metadata": {
  "kernelspec": {
   "display_name": "Python 3",
   "language": "python",
   "name": "python3"
  }
 },
 "nbformat": 4,
 "nbformat_minor": 2
}
